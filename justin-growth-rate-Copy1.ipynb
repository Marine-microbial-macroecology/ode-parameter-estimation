{
 "cells": [
  {
   "cell_type": "code",
   "execution_count": null,
   "id": "jewish-poultry",
   "metadata": {},
   "outputs": [],
   "source": [
    "using DataFrames\n",
    "using CSV\n",
    "using Plots\n",
    "using Plotly\n",
    "plotly() # select backend for plots"
   ]
  },
  {
   "cell_type": "markdown",
   "id": "classified-distributor",
   "metadata": {},
   "source": [
    "Read experimental data with time, cell density, DIN, and N quota"
   ]
  },
  {
   "cell_type": "code",
   "execution_count": null,
   "id": "detected-spelling",
   "metadata": {},
   "outputs": [],
   "source": [
    "liefer = CSV.File(\"liefer-growth-data.csv\") |> DataFrame ; "
   ]
  },
  {
   "cell_type": "code",
   "execution_count": null,
   "id": "specific-address",
   "metadata": {},
   "outputs": [],
   "source": [
    "# gr()\n",
    "# @df liefer Plots.scatter(:Date, :DIN)"
   ]
  },
  {
   "cell_type": "code",
   "execution_count": null,
   "id": "bizarre-warrior",
   "metadata": {},
   "outputs": [],
   "source": [
    "# Plots.scatter(liefer[!, :Date], liefer[!, :DIN])"
   ]
  },
  {
   "cell_type": "markdown",
   "id": "smart-warrior",
   "metadata": {},
   "source": [
    "Assemble time, DIN, N, cell number data (t, R, Q, X) for differential equation.\n",
    "For now, take only one replicate and one species"
   ]
  },
  {
   "cell_type": "code",
   "execution_count": null,
   "id": "distributed-ballet",
   "metadata": {},
   "outputs": [],
   "source": [
    "ss = filter( [:\"Species\", :\"Replicate\", :\"Cell Density\"] => (x,y,z) -> x == \"Thalassiosira pseudonana\" && y == \"A\" && !ismissing(z), liefer)"
   ]
  },
  {
   "cell_type": "code",
   "execution_count": null,
   "id": "monetary-facial",
   "metadata": {},
   "outputs": [],
   "source": [
    "t = ss.\"Days in N-free Media\"\n",
    "R = ss.DIN\n",
    "Q = ss.N\n",
    "X = ss.\"Cell Density\"\n",
    "[t R Q X] # units: d, µmol/L, pg/cell, cells/mL"
   ]
  },
  {
   "cell_type": "markdown",
   "id": "distinguished-virtue",
   "metadata": {},
   "source": [
    "Replace missing values in R with 0s"
   ]
  },
  {
   "cell_type": "code",
   "execution_count": null,
   "id": "streaming-audio",
   "metadata": {},
   "outputs": [],
   "source": [
    "R = map(x -> ismissing(x) ? 0 : x, R)"
   ]
  },
  {
   "cell_type": "markdown",
   "id": "coastal-lindsay",
   "metadata": {},
   "source": [
    "Fix units for R, Q, X. Make R into pg/mL.\n",
    "µmol/L * (1 L / 1000 mL) * (14 g / mol) * (mol/10^6 µmol) * (10^12 pg / g) = 10^12 * 10^(-6) * 10^(-3) * 14 pg/mL"
   ]
  },
  {
   "cell_type": "code",
   "execution_count": null,
   "id": "analyzed-louisville",
   "metadata": {},
   "outputs": [],
   "source": [
    "RpgmL = R .* (10^3 * 14)"
   ]
  },
  {
   "cell_type": "markdown",
   "id": "gothic-framework",
   "metadata": {},
   "source": [
    "There is a diution that happens after the first time step."
   ]
  },
  {
   "cell_type": "code",
   "execution_count": null,
   "id": "extended-stylus",
   "metadata": {},
   "outputs": [],
   "source": [
    "liefer[4,:\"Dilution Factor\"]\n",
    "X[1] = X[1]*liefer[4,:\"Dilution Factor\"]"
   ]
  },
  {
   "cell_type": "markdown",
   "id": "interim-marking",
   "metadata": {},
   "source": [
    "Check mass balance. R + QX should be constant. In fact, it looks like about 15-20% of mass is lost between time 0 and time 1. Reduce R[t0] to balance total mass at time 1."
   ]
  },
  {
   "cell_type": "code",
   "execution_count": null,
   "id": "correct-lingerie",
   "metadata": {},
   "outputs": [],
   "source": [
    "Plots.scatter(t, RpgmL .+ Q .* X)\n",
    "Plots.scatter!(t, RpgmL)\n",
    "Plots.scatter!(t, Q .* X)"
   ]
  },
  {
   "cell_type": "code",
   "execution_count": null,
   "id": "sharing-hypothesis",
   "metadata": {},
   "outputs": [],
   "source": [
    "RpgmL[1] = RpgmL[2] + Q[2]*X[2] - Q[1]*X[1]"
   ]
  },
  {
   "cell_type": "markdown",
   "id": "wooden-villa",
   "metadata": {},
   "source": [
    "Solve Droop differential equation\n"
   ]
  },
  {
   "cell_type": "code",
   "execution_count": null,
   "id": "exterior-rhythm",
   "metadata": {},
   "outputs": [],
   "source": [
    "using DifferentialEquations"
   ]
  },
  {
   "cell_type": "code",
   "execution_count": null,
   "id": "minimal-circular",
   "metadata": {},
   "outputs": [],
   "source": [
    "function droop!(du, u, p, t)\n",
    "  R, Q, X = u\n",
    "  Km, Vmax, Qmin, muMax = p\n",
    "  d = 0.0\n",
    "  R0 = 0.0\n",
    "  rho = Vmax * R / (Km + R)\n",
    "  mu = muMax * (1 - Qmin/Q)\n",
    "  du[1] = dRdt = d*(R0 - R) - rho*X\n",
    "  du[2] = dQdt = rho - mu*Q\n",
    "  du[3] = dXdt = (mu - d)*X\n",
    "end\n",
    "\n",
    "# Initial condition\n",
    "u0 = [1.0, 1.0, 1.0]\n",
    "\n",
    "# Simulation interval and intermediary points\n",
    "tspan = (0.0, 10.0)\n",
    "tsteps = 0.0:0.1:10.0\n",
    "\n",
    "p = [0.1, 2.0, 1.0, 0.8]\n",
    "\n",
    "# Setup the ODE problem, then solve\n",
    "prob = ODEProblem(droop!, u0, tspan, p)\n",
    "sol = solve(prob, Tsit5())\n"
   ]
  },
  {
   "cell_type": "code",
   "execution_count": null,
   "id": "gross-commissioner",
   "metadata": {},
   "outputs": [],
   "source": [
    "# using Plotly\n",
    "plotly()\n",
    "Plots.plot(sol)"
   ]
  },
  {
   "cell_type": "markdown",
   "id": "aquatic-afternoon",
   "metadata": {},
   "source": [
    "Find parameters that best match data in t, R, Q, X. Ignore R? Or make missing == 0\n",
    "\n",
    "Use times t. Ignore R."
   ]
  },
  {
   "cell_type": "code",
   "execution_count": null,
   "id": "regional-boston",
   "metadata": {},
   "outputs": [],
   "source": [
    "using DifferentialEquations, Flux, DiffEqFlux, Optim, DiffEqSensitivity"
   ]
  },
  {
   "cell_type": "code",
   "execution_count": null,
   "id": "coordinated-accused",
   "metadata": {},
   "outputs": [],
   "source": [
    "p = [100.0, 0.1, 1.0, 0.8]\n",
    "my_mean = x -> sum(x)/length(x)\n",
    "my_sd = x -> sqrt(sum((x .- my_mean(x)).^2)/(length(x)-1))\n",
    "prob = ODEProblem(droop!, [RpgmL[1], Q[1], X[1]], tspan, p)\n",
    "\n",
    "function loss(p)\n",
    "  sol = solve(prob, Tsit5(), p=p, saveat = t)\n",
    "  deltaQ = [ sol.u[i][2] - Q[i] for i in 1:length(t) ]\n",
    "  # deltaX = [ log(sol.u[i][3]) - log(X[i]) for i in 1:length(t) ]\n",
    "  # loss = sum(abs2, deltaX ./ sd(log.(X))) + sum(abs2, deltaQ ./ sd(Q))\n",
    "  deltaX = [ sol.u[i][3] - X[i] for i in 1:length(t) ]\n",
    "  loss = sum(abs2, deltaX ./ my_sd(X)) + sum(abs2, deltaQ ./ my_sd(Q))\n",
    "  return loss, sol\n",
    "end\n",
    "\n",
    "callback = function (p, l, pred)\n",
    "  display(l)\n",
    "  # plt = plot(pred, ylim = (0, 6))\n",
    "  # display(plt)\n",
    "  # Tell sciml_train to not halt the optimization. If return true, then\n",
    "  # optimization stops.\n",
    "  return false\n",
    "end\n"
   ]
  },
  {
   "cell_type": "markdown",
   "id": "sixth-begin",
   "metadata": {},
   "source": [
    "Test loss(p) before passing on to optimizer"
   ]
  },
  {
   "cell_type": "code",
   "execution_count": null,
   "id": "obvious-diabetes",
   "metadata": {},
   "outputs": [],
   "source": [
    "loss(p)"
   ]
  },
  {
   "cell_type": "code",
   "execution_count": null,
   "id": "square-accordance",
   "metadata": {},
   "outputs": [],
   "source": [
    "result_ode = DiffEqFlux.sciml_train(loss, p,\n",
    "                                    ADAM(0.1),\n",
    "                                    cb = callback,\n",
    "                                    maxiters =100)"
   ]
  },
  {
   "cell_type": "code",
   "execution_count": null,
   "id": "bored-industry",
   "metadata": {},
   "outputs": [],
   "source": [
    "result_ode\n",
    "sol = solve(prob, Tsit5(), p = result_ode.u, saveat = t)"
   ]
  },
  {
   "cell_type": "code",
   "execution_count": null,
   "id": "interior-basin",
   "metadata": {},
   "outputs": [],
   "source": [
    "pR = Plots.plot(sol, vars = [(0,1)], ylabel=\"R\", xlabel = \"\")\n",
    "pR = Plots.scatter!(t, RpgmL)\n",
    "pQ = Plots.plot(sol, vars = [(0,2)], ylabel=\"Q\", xlabel = \"\")\n",
    "pQ = Plots.scatter!(t, Q)\n",
    "pX = Plots.plot(sol, vars = [ ((t,X)-> (t, log.(X)), 0, 3)], ylabel=\"log X\")\n",
    "pX = Plots.scatter!(t, log.(X))\n",
    "Plots.plot(pR, pQ, pX, layout = (3,1))"
   ]
  },
  {
   "cell_type": "markdown",
   "id": "postal-proxy",
   "metadata": {},
   "source": [
    "Why is this fit so bad? Perhaps one reason is that the initial conditions are not well known.\n",
    "\n",
    "Include them in the parameters to be estimated and a penalty for them being too wrong."
   ]
  },
  {
   "cell_type": "code",
   "execution_count": null,
   "id": "blocked-visit",
   "metadata": {},
   "outputs": [],
   "source": [
    "p = [RpgmL[1], Q[1], X[1], 100.0, 1.0, 1.0, 0.8]\n",
    "\n",
    "function loss(p)\n",
    "  prob = ODEProblem(droop!, p[1:3], tspan, p[4:end])\n",
    "  sol = solve(prob, Rosenbrock23(), p=p[4:end], saveat = t)\n",
    "     # Integrators: AutoTsit5(Rosenbrock23()), Rosenbrock23(), Tsit5()\n",
    "  # deltaR = [ sol.u[i][1] - RpgmL[i] for i in 1:3 ]  # Including R in loss function makes results much worse\n",
    "  deltaQ = [ sol.u[i][2] - Q[i] for i in 1:(length(t)-1) ]\n",
    "  deltaX = [ log(sol.u[i][3]) - log(X[i]) for i in 1:(length(t)-1) ]\n",
    "  loss = sum(abs2, deltaX ./ my_sd(log.(X))) + sum(abs2, deltaQ ./ my_sd(Q))  # + sum(abs2, deltaR ./ sd(RpgmL[1:3]))\n",
    "  # deltaX = [ sol.u[i][3] - X[i] for i in 1:length(t) ]\n",
    "  # loss = sum(abs2, deltaX ./ sd(X)) + sum(abs2, deltaQ ./ sd(Q)) # + sum(abs2, deltaR ./ sd(RpgmL[1:2]))\n",
    "  return loss, sol\n",
    "end"
   ]
  },
  {
   "cell_type": "code",
   "execution_count": null,
   "id": "narrative-distribution",
   "metadata": {},
   "outputs": [],
   "source": [
    "loss(p)"
   ]
  },
  {
   "cell_type": "code",
   "execution_count": null,
   "id": "historic-adult",
   "metadata": {},
   "outputs": [],
   "source": [
    "result_ode = DiffEqFlux.sciml_train(loss, p,\n",
    "                                    ADAM(0.1),\n",
    "                                    cb = callback,\n",
    "                                    maxiters =100)"
   ]
  },
  {
   "cell_type": "code",
   "execution_count": null,
   "id": "sonic-mills",
   "metadata": {},
   "outputs": [],
   "source": [
    "[result_ode.u[1:3], [RpgmL[1], Q[1], X[1]]]"
   ]
  },
  {
   "cell_type": "code",
   "execution_count": null,
   "id": "amino-cambodia",
   "metadata": {},
   "outputs": [],
   "source": [
    "result_ode\n",
    "prob = ODEProblem(droop!, result_ode.u[1:3], tspan, result_ode.u[4:end])\n",
    "sol = solve(prob, Rosenbrock23(), p = result_ode.u[4:end]) # , saveat = t)"
   ]
  },
  {
   "cell_type": "code",
   "execution_count": null,
   "id": "settled-annotation",
   "metadata": {},
   "outputs": [],
   "source": [
    "pR = Plots.plot(sol, vars = [(0,1)], ylabel=\"R\", xlabel = \"\")\n",
    "pR = Plots.scatter!(t, RpgmL)\n",
    "pQ = Plots.plot(sol, vars = [(0,2)], ylabel=\"Q\", xlabel = \"\")\n",
    "pQ = Plots.scatter!(t, Q)\n",
    "pX = Plots.plot(sol, vars = [ ((t,X)-> (t, log.(X)), 0, 3)], ylabel=\"log X\")\n",
    "pX = Plots.scatter!(t, log.(X))\n",
    "pM = Plots.plot(sol, vars = [ ((t,R,Q,X) -> (t, R + Q*X), 0, 1, 2, 3)], ylabel = \"total Mass\")\n",
    "pM = Plots.scatter!(t, RpgmL .+ Q .* X)\n",
    "Plots.plot(pR, pQ, pX, pM, layout = (2,2))"
   ]
  },
  {
   "cell_type": "markdown",
   "id": "declared-malpractice",
   "metadata": {},
   "source": [
    "Changing the integrator to a stiff method and not fitting to R helps.\n",
    "\n",
    "Gather all three replicates together. Estimate time 0 values for all three separately. Use the same Qmin, Km, Vmax, mumax."
   ]
  },
  {
   "cell_type": "code",
   "execution_count": null,
   "id": "saving-creator",
   "metadata": {},
   "outputs": [],
   "source": [
    "t1, RpgmL1, Q1, X1 = t, RpgmL, Q, X\n",
    "\n",
    "ss = filter( [:\"Species\", :\"Replicate\", :\"Cell Density\"] => (x,y,z) -> x == \"Thalassiosira pseudonana\" && y == \"B\" && !ismissing(z), liefer)\n",
    "t = ss.\"Days in N-free Media\"\n",
    "R = ss.DIN\n",
    "Q = ss.N\n",
    "X = ss.\"Cell Density\"\n",
    "R = map(x -> ismissing(x) ? 0 : x, R)\n",
    "RpgmL = R .* (10^3 * 14)\n",
    "liefer[4,:\"Dilution Factor\"]\n",
    "X[1] = X[1]*liefer[4,:\"Dilution Factor\"]\n",
    "p2 = Plots.scatter(t, RpgmL .+ Q .* X)\n",
    "p2 = Plots.scatter!(t, RpgmL)\n",
    "p2 = Plots.scatter!(t, Q .* X)\n",
    "RpgmL[1] = RpgmL[2] + Q[2]*X[2] - Q[1]*X[1]\n",
    "t2, RpgmL2, Q2, X2 = t, RpgmL, Q, X\n",
    "\n",
    "ss = filter( [:\"Species\", :\"Replicate\", :\"Cell Density\"] => (x,y,z) -> x == \"Thalassiosira pseudonana\" && y == \"C\" && !ismissing(z), liefer)\n",
    "t = ss.\"Days in N-free Media\"\n",
    "R = ss.DIN\n",
    "Q = ss.N\n",
    "X = ss.\"Cell Density\"\n",
    "R = map(x -> ismissing(x) ? 0 : x, R)\n",
    "RpgmL = R .* (10^3 * 14)\n",
    "liefer[4,:\"Dilution Factor\"]\n",
    "X[1] = X[1]*liefer[4,:\"Dilution Factor\"]\n",
    "p3 = Plots.scatter(t, RpgmL .+ Q .* X)\n",
    "p3 = Plots.scatter!(t, RpgmL)\n",
    "p3 = Plots.scatter!(t, Q .* X)\n",
    "RpgmL[1] = RpgmL[2] + Q[2]*X[2] - Q[1]*X[1]\n",
    "t3, RpgmL3, Q3, X3 = t, RpgmL, Q, X\n",
    "\n",
    "Plots.plot(p2, p3)"
   ]
  },
  {
   "cell_type": "code",
   "execution_count": null,
   "id": "directed-azerbaijan",
   "metadata": {},
   "outputs": [],
   "source": []
  },
  {
   "cell_type": "code",
   "execution_count": null,
   "id": "heard-tennis",
   "metadata": {},
   "outputs": [],
   "source": [
    "p = [RpgmL1[1], Q1[1], X1[1], RpgmL1[1], Q2[1], X2[1], RpgmL3[1], Q3[1], X3[1], 100.0, 1.0, 1.0, 0.8]\n",
    "\n",
    "function loss(p)\n",
    "  prob1   = ODEProblem(droop!, p[1:3], tspan, p[10:end]) \n",
    "  sol1    = solve(prob1, Rosenbrock23(), p=p[10:end], saveat = t1)\n",
    "  deltaQ1 = [ sol1.u[i][2] - Q1[i] for i in 1:(length(t)-1) ]\n",
    "  deltaX1 = [ log(sol1.u[i][3]) - log(X1[i]) for i in 1:(length(t1)-1) ]\n",
    "  prob2   = ODEProblem(droop!, p[4:6], tspan, p[10:end])\n",
    "  sol2    = solve(prob2, Rosenbrock23(), p=p[10:end], saveat = t2)\n",
    "  deltaQ2 = [ sol2.u[i][2] - Q2[i] for i in 1:(length(t)-1) ]\n",
    "  deltaX2 = [ log(sol2.u[i][3]) - log(X2[i]) for i in 1:(length(t2)-1) ]\n",
    "  prob3   = ODEProblem(droop!, p[7:9], tspan, p[10:end])\n",
    "  sol3    = solve(prob3, Rosenbrock23(), p=p[10:end], saveat = t3)\n",
    "  deltaQ3 = [ sol3.u[i][2] - Q3[i] for i in 1:(length(t)-1) ]\n",
    "  deltaX3 = [ log(sol3.u[i][3]) - log(X3[i]) for i in 1:(length(t3)-1) ]\n",
    "  loss = sum(abs2, deltaX1 ./ my_sd(log.(X1))) + sum(abs2, deltaQ1 ./ my_sd(Q1)) + sum(abs2, deltaX2 ./ my_sd(log.(X2))) + sum(abs2, deltaQ2 ./ my_sd(Q2))  + sum(abs2, deltaX3 ./ my_sd(log.(X3))) + sum(abs2, deltaQ3 ./ my_sd(Q3))   # + sum(abs2, deltaR ./ sd(RpgmL[1:3]))\n",
    "  # deltaX = [ sol.u[i][3] - X[i] for i in 1:length(t) ]\n",
    "  # loss = sum(abs2, deltaX ./ sd(X)) + sum(abs2, deltaQ ./ sd(Q)) # + sum(abs2, deltaR ./ sd(RpgmL[1:2]))\n",
    "  return loss, sol\n",
    "end"
   ]
  },
  {
   "cell_type": "code",
   "execution_count": null,
   "id": "placed-situation",
   "metadata": {},
   "outputs": [],
   "source": [
    "loss(p)"
   ]
  },
  {
   "cell_type": "code",
   "execution_count": null,
   "id": "independent-separate",
   "metadata": {},
   "outputs": [],
   "source": [
    "result_ode = DiffEqFlux.sciml_train(loss, p,\n",
    "                                    ADAM(0.1),\n",
    "                                    cb = callback,\n",
    "                                    maxiters =100)"
   ]
  },
  {
   "cell_type": "code",
   "execution_count": null,
   "id": "limiting-rhythm",
   "metadata": {},
   "outputs": [],
   "source": [
    "pR = Plots.plot(sol, vars = [(0,1)], ylabel=\"R\", xlabel = \"\")\n",
    "pR = Plots.scatter!(t1, RpgmL1)\n",
    "pR = Plots.scatter!(t2, RpgmL2)\n",
    "pR = Plots.scatter!(t3, RpgmL3)\n",
    "pQ = Plots.plot(sol, vars = [(0,2)], ylabel=\"Q\", xlabel = \"\")\n",
    "pQ = Plots.scatter!(t1, Q1)\n",
    "pQ = Plots.scatter!(t2, Q2)\n",
    "pQ = Plots.scatter!(t3, Q3)\n",
    "pX = Plots.plot(sol, vars = [ ((t,X)-> (t, log.(X)), 0, 3)], ylabel=\"log X\")\n",
    "pX = Plots.scatter!(t1, log.(X1))\n",
    "pX = Plots.scatter!(t2, log.(X2))\n",
    "pX = Plots.scatter!(t3, log.(X3))\n",
    "pM = Plots.plot(sol, vars = [ ((t,R,Q,X) -> (t, R + Q*X), 0, 1, 2, 3)], ylabel = \"total Mass\")\n",
    "pM = Plots.scatter!(t1, RpgmL1 .+ Q1 .* X1)\n",
    "pM = Plots.scatter!(t2, RpgmL2 .+ Q2 .* X2)\n",
    "pM = Plots.scatter!(t3, RpgmL3 .+ Q3 .* X3)\n",
    "Plots.plot(pR, pQ, pX, pM, layout = (2,2))"
   ]
  },
  {
   "cell_type": "markdown",
   "id": "occasional-overall",
   "metadata": {},
   "source": [
    "Try the Bayesian fitting method to try to get a distribution on solutions and parameters.\n",
    "\n",
    "https://github.com/TuringLang/TuringTutorials/blob/master/10_diffeq.ipynb\n",
    "https://turing.ml/dev/tutorials/10-bayesiandiffeq/"
   ]
  },
  {
   "cell_type": "code",
   "execution_count": null,
   "id": "hearing-ability",
   "metadata": {},
   "outputs": [],
   "source": [
    "using Turing, Distributions, DifferentialEquations \n",
    "\n",
    "# Import MCMCChain, Plots, and StatsPlots for visualizations and diagnostics.\n",
    "using MCMCChains, Plots, StatsPlots\n",
    "\n",
    "# Set a seed for reproducibility.\n",
    "using Random\n",
    "Random.seed!(14);\n",
    "using Logging\n",
    "Logging.disable_logging(Logging.Warn)"
   ]
  },
  {
   "cell_type": "code",
   "execution_count": null,
   "id": "informational-dubai",
   "metadata": {},
   "outputs": [],
   "source": [
    "Turing.setadbackend(:forwarddiff)\n",
    "\n",
    "@model function fitDroop(t, R, Q, X, logX)\n",
    "    σ1 ~ InverseGamma(2, 3) # ~ is the tilde character\n",
    "    σ2 ~ InverseGamma(2, 3) # ~ is the tilde character\n",
    "    Km ~ truncated(Normal(100,10),0,200)\n",
    "    Vmax ~ truncated(Normal(1.2,0.5),0,3)\n",
    "    Qmin ~ truncated(Normal(1.0,0.5),0,3)\n",
    "    muMax ~ truncated(Normal(1.0,0.5),0,3)\n",
    "\n",
    "    p = [ Km, Vmax, Qmin, muMax]\n",
    "\n",
    "    # must define the problem with numeric values first, then update with distributions\n",
    "    prob1 = ODEProblem(droop!, [RpgmL1[1], Q1[1], X1[1]], (0.0, 10.0), [200.0, 1.0, 1.0, 1.0])\n",
    "    prob = remake(prob1, p=p)  # modifies the original problem\n",
    "\n",
    "    predicted = solve(prob, Rosenbrock23(), saveat=t)\n",
    "    \n",
    "    for j = 1:7\n",
    "        Q[j] ~ Normal(predicted[j][2], σ1)\n",
    "        logX[j] ~ Normal(log.(predicted[j][3]), σ2)\n",
    "    end\n",
    "end\n",
    "\n",
    "\n",
    "@model function fitDroop1(t, R, Q, X, logX)\n",
    "    σ1 ~ InverseGamma(2, 3) # ~ is the tilde character\n",
    "    # σ2 ~ InverseGamma(2, 3) \n",
    "    R0 ~ Normal(300000, 1000)\n",
    "    Q0 ~ truncated(Normal(3, 1), 0, 10)\n",
    "    X0 ~ Normal(65000,1000)\n",
    "    Km ~ truncated(Normal(100,10),0,200)\n",
    "    Vmax ~ truncated(Normal(1.2,0.5),0,3)\n",
    "    Qmin ~ truncated(Normal(1.0,0.5),0,3)\n",
    "    muMax ~ truncated(Normal(1.0,0.5),0,3)\n",
    "\n",
    "    p = [ Km, Vmax, Qmin, muMax]\n",
    "\n",
    "    # must define the problem with numeric values first, then update with distributions\n",
    "    prob1 = ODEProblem(droop!, [RpgmL1[1], Q1[1], X1[1]], (0.0, 10.0), [200.0, 1.0, 1.0, 1.0])\n",
    "    prob = remake(prob1, u0=[R0, Q0, X0], p=p)  # modifies the original problem  # fails ****\n",
    "\n",
    "    # prob = ODEProblem(droop!, [R0, Q0, X0], (0,10), p)\n",
    "    # prob = ODEProblem(droop!, [R[1], Q[1], exp(X[1])], (0.0, 10.0), p)\n",
    "    predicted = solve(prob, Rosenbrock23(), saveat=t)\n",
    "    \n",
    "    for j = 1:7\n",
    "        Q[j] ~ Normal(predicted[j][2], σ1)\n",
    "        # logX[i] ~ Normal(predicted[i][3], σ2)\n",
    "    end\n",
    "end"
   ]
  },
  {
   "cell_type": "code",
   "execution_count": null,
   "id": "herbal-intensity",
   "metadata": {},
   "outputs": [],
   "source": [
    "# reminder of how this works...\n",
    "prob = ODEProblem(droop!, [RpgmL1[1], Q1[1], X1[1]], (0.0, 10.0), [200.0, 1.0, 1.0, 1.0])\n",
    "predicted = solve(prob, Rosenbrock23(), saveat=t)\n",
    "predicted[7][2]"
   ]
  },
  {
   "cell_type": "code",
   "execution_count": null,
   "id": "critical-nickel",
   "metadata": {},
   "outputs": [],
   "source": []
  },
  {
   "cell_type": "code",
   "execution_count": null,
   "id": "naval-intellectual",
   "metadata": {},
   "outputs": [],
   "source": []
  },
  {
   "cell_type": "code",
   "execution_count": null,
   "id": "sixth-celebrity",
   "metadata": {},
   "outputs": [],
   "source": [
    "model = fitDroop(t, RpgmL1, Q1, X1, log.(X1))\n",
    "# model = fitDroop1(t, RpgmL1, Q1, X1, log.(X1)) # fails ***\n",
    "# chain = sample(model, NUTS(0.65), 100)  # 8:20\n",
    "# This next command runs 3 independent chains without using multithreading. \n",
    "# chain = mapreduce(c -> sample(model, NUTS(.65), 1000), chainscat, 1:3) # takes a few minutes 7:43"
   ]
  },
  {
   "cell_type": "code",
   "execution_count": null,
   "id": "oriented-bunch",
   "metadata": {},
   "outputs": [],
   "source": [
    "# Threads.nthreads()  # Must start julia with --threads 4 (or other value)\n",
    "# chain2 = sample(model, NUTS(.65), MCMCThreads(), 1000, 4, progress=false) # takes 15 minutes or so. wild guess.\n",
    "chain2 = sample(model, NUTS(.65), MCMCThreads(), 100, 4, progress=false) # not enough iterations; demo only\n"
   ]
  },
  {
   "cell_type": "code",
   "execution_count": null,
   "id": "liberal-darwin",
   "metadata": {},
   "outputs": [],
   "source": [
    "median(chain2[:muMax]), median(chain2[:Qmin]), median(chain2[:Km]), median(chain2[:Vmax])\n",
    "# median.(chain2)"
   ]
  },
  {
   "cell_type": "code",
   "execution_count": null,
   "id": "polished-isolation",
   "metadata": {},
   "outputs": [],
   "source": [
    "Plots.plot(chain2)"
   ]
  },
  {
   "cell_type": "code",
   "execution_count": null,
   "id": "painted-stress",
   "metadata": {},
   "outputs": [],
   "source": [
    "chain_array = Array(chain2);\n"
   ]
  },
  {
   "cell_type": "code",
   "execution_count": null,
   "id": "informational-hybrid",
   "metadata": {},
   "outputs": [],
   "source": [
    "sol2 = solve(remake(prob, \n",
    "        p = [median(chain2[:Km]), median(chain2[:Qmin]), median(chain2[:Vmax]), median(chain2[:muMax])]), \n",
    "        Rosenbrock23()); "
   ]
  },
  {
   "cell_type": "code",
   "execution_count": null,
   "id": "young-celebration",
   "metadata": {},
   "outputs": [],
   "source": [
    "pl = Plots.scatter(t, RpgmL1);\n",
    "for k in 1:300\n",
    "    resol = solve(remake(prob,p=chain_array[rand(1:size(chain_array)[1]), 1:4]),Rosenbrock23()) \n",
    "    # Note that due to a bug in AxisArray, the variables from the chain will be returned always in\n",
    "    # the order it is stored in the array, not by the specified order in the call - :α, :β, :γ, :δ\n",
    "    plot!(resol, vars=(0,1), alpha=0.3, color = \"#BBBBBB\", legend = false, ylims=(0, Inf))\n",
    "end\n",
    "plot!(sol2, vars=(0,1), alpha=1, color = \"#BB0000\", legend = false, ylims=(0, Inf))\n",
    "display(pl)\n"
   ]
  },
  {
   "cell_type": "code",
   "execution_count": null,
   "id": "secondary-sixth",
   "metadata": {},
   "outputs": [],
   "source": [
    "pl = Plots.scatter(t, Q1);\n",
    "for k in 1:300\n",
    "    resol = solve(remake(prob,p=chain_array[rand(1:size(chain_array)[1]), 1:4]),Rosenbrock23()) \n",
    "    # Note that due to a bug in AxisArray, the variables from the chain will be returned always in\n",
    "    # the order it is stored in the array, not by the specified order in the call - :α, :β, :γ, :δ\n",
    "    plot!(resol, vars=(0,2), alpha=0.31, color = \"#BBBBBB\", legend = false)\n",
    "end\n",
    "plot!(sol2, vars=(0,2), alpha=1, color = \"#BB0000\", legend = false)\n",
    "display(pl)\n"
   ]
  },
  {
   "cell_type": "code",
   "execution_count": null,
   "id": "controlling-biography",
   "metadata": {},
   "outputs": [],
   "source": [
    "pl = Plots.scatter(t, log.(X1));\n",
    "for k in 1:300\n",
    "    resol = solve(remake(prob,p=chain_array[rand(1:size(chain_array)[1]), 1:4]),Rosenbrock23()) \n",
    "    # Note that due to a bug in AxisArray, the variables from the chain will be returned always in\n",
    "    # the order it is stored in the array, not by the specified order in the call - :α, :β, :γ, :δ\n",
    "    plot!(resol, vars=((t,x) -> (t, log.(x)), 0,3), alpha=0.3, color = \"#BBBBBB\", legend = false)\n",
    "end\n",
    "plot!(sol2, vars=((t,x) -> (t, log.(x)), 0,3), alpha=1, color = \"#BB0000\", legend = false)\n",
    "display(pl)"
   ]
  },
  {
   "cell_type": "markdown",
   "id": "ordinary-anderson",
   "metadata": {},
   "source": [
    "Revise to estimate initial conditions and use all three replicates."
   ]
  },
  {
   "cell_type": "code",
   "execution_count": null,
   "id": "assured-northwest",
   "metadata": {},
   "outputs": [],
   "source": []
  }
 ],
 "metadata": {
  "kernelspec": {
   "display_name": "Julia 1.5.3",
   "language": "julia",
   "name": "julia-1.5"
  },
  "language_info": {
   "file_extension": ".jl",
   "mimetype": "application/julia",
   "name": "julia",
   "version": "1.5.3"
  }
 },
 "nbformat": 4,
 "nbformat_minor": 5
}
