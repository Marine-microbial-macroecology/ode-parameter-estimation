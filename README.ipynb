{
 "cells": [
  {
   "cell_type": "markdown",
   "id": "interstate-fighter",
   "metadata": {},
   "source": [
    "# Estimating parameters for ODEs in Julia\n",
    "\n",
    "This is a series of Julia / Jupyter notebooks that I will use to demonstrate methods I'm learning for estimating parameters and initial conditions for small systems of ODEs.\n",
    "\n",
    "Each notebook will do one thing, as explained below."
   ]
  },
  {
   "cell_type": "markdown",
   "id": "lesser-edward",
   "metadata": {},
   "source": [
    "## Notebooks written\n",
    "\n",
    "0. LV-ODE-basics: overview of writing and solving ODEs in Julia\n",
    "1. LV-point-01: Demo of parameter estimation (point estimates by optimization) for Lotka-Volterra system, based on internet tutorial\n",
    "2. LV-posterior-01: Demo of Bayesian / MCMC estimation of posterior distributions of parameters for Lotka-Volterra system.\n"
   ]
  },
  {
   "cell_type": "markdown",
   "id": "minute-citation",
   "metadata": {},
   "source": [
    "## Notesbooks to write\n",
    "\n",
    "1. Point estimates for Grover chemostat dynamics\n",
    "2. MCMC estimates for Grover chemostat dynamics\n",
    "3. point and MCMC estimates for Monod-memory model"
   ]
  },
  {
   "cell_type": "code",
   "execution_count": null,
   "id": "occupational-gambling",
   "metadata": {},
   "outputs": [],
   "source": []
  }
 ],
 "metadata": {
  "kernelspec": {
   "display_name": "Julia 1.5.3",
   "language": "julia",
   "name": "julia-1.5"
  },
  "language_info": {
   "file_extension": ".jl",
   "mimetype": "application/julia",
   "name": "julia",
   "version": "1.5.3"
  }
 },
 "nbformat": 4,
 "nbformat_minor": 5
}
